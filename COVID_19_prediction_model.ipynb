{
  "nbformat": 4,
  "nbformat_minor": 0,
  "metadata": {
    "colab": {
      "name": "COVID-19.ipynb",
      "provenance": []
    },
    "kernelspec": {
      "name": "python3",
      "display_name": "Python 3"
    },
    "accelerator": "GPU"
  },
  "cells": [
    {
      "cell_type": "code",
      "metadata": {
        "id": "1B5i7F0gqIMO",
        "colab_type": "code",
        "colab": {
          "base_uri": "https://localhost:8080/",
          "height": 392
        },
        "outputId": "f9461ca3-e3ec-4df5-a68f-4fa43deac0e9"
      },
      "source": [
        "!wget https://www.dropbox.com/sh/0mwmry1551vq4qr/AABcdnMtpohQ3keBOe5HoHEka?dl=0"
      ],
      "execution_count": null,
      "outputs": [
        {
          "output_type": "stream",
          "text": [
            "--2020-08-29 14:25:31--  https://www.dropbox.com/sh/0mwmry1551vq4qr/AABcdnMtpohQ3keBOe5HoHEka?dl=0\n",
            "Resolving www.dropbox.com (www.dropbox.com)... 162.125.67.1, 2620:100:6023:1::a27d:4301\n",
            "Connecting to www.dropbox.com (www.dropbox.com)|162.125.67.1|:443... connected.\n",
            "HTTP request sent, awaiting response... 301 Moved Permanently\n",
            "Location: /sh/raw/0mwmry1551vq4qr/AABcdnMtpohQ3keBOe5HoHEka [following]\n",
            "--2020-08-29 14:25:32--  https://www.dropbox.com/sh/raw/0mwmry1551vq4qr/AABcdnMtpohQ3keBOe5HoHEka\n",
            "Reusing existing connection to www.dropbox.com:443.\n",
            "HTTP request sent, awaiting response... 302 Found\n",
            "Location: https://ucbec738fc9a69b8f0c2fc54e79a.dl.dropboxusercontent.com/zip_download_get/Ahws9uBIaAVBOl7_8zp6IWaOGL1U6oVaMMrEO10vt4Lb1JQyvIUd_KVxqbvXdNTfvNTiTJyXIvTpjsw6hGgqE2q-wxWp7rmdc9GoPjDp49uUuQ [following]\n",
            "--2020-08-29 14:25:32--  https://ucbec738fc9a69b8f0c2fc54e79a.dl.dropboxusercontent.com/zip_download_get/Ahws9uBIaAVBOl7_8zp6IWaOGL1U6oVaMMrEO10vt4Lb1JQyvIUd_KVxqbvXdNTfvNTiTJyXIvTpjsw6hGgqE2q-wxWp7rmdc9GoPjDp49uUuQ\n",
            "Resolving ucbec738fc9a69b8f0c2fc54e79a.dl.dropboxusercontent.com (ucbec738fc9a69b8f0c2fc54e79a.dl.dropboxusercontent.com)... 162.125.67.15, 2620:100:6023:15::a27d:430f\n",
            "Connecting to ucbec738fc9a69b8f0c2fc54e79a.dl.dropboxusercontent.com (ucbec738fc9a69b8f0c2fc54e79a.dl.dropboxusercontent.com)|162.125.67.15|:443... connected.\n",
            "HTTP request sent, awaiting response... 200 OK\n",
            "Length: 185117573 (177M) [application/zip]\n",
            "Saving to: ‘AABcdnMtpohQ3keBOe5HoHEka?dl=0’\n",
            "\n",
            "AABcdnMtpohQ3keBOe5 100%[===================>] 176.54M  24.3MB/s    in 7.2s    \n",
            "\n",
            "2020-08-29 14:25:40 (24.6 MB/s) - ‘AABcdnMtpohQ3keBOe5HoHEka?dl=0’ saved [185117573/185117573]\n",
            "\n"
          ],
          "name": "stdout"
        }
      ]
    },
    {
      "cell_type": "code",
      "metadata": {
        "id": "C-4IqYcqqdM7",
        "colab_type": "code",
        "colab": {
          "base_uri": "https://localhost:8080/",
          "height": 35
        },
        "outputId": "f32d72e2-4ca0-43bb-c2fd-c0e13791626e"
      },
      "source": [
        "!ls"
      ],
      "execution_count": null,
      "outputs": [
        {
          "output_type": "stream",
          "text": [
            "'AABcdnMtpohQ3keBOe5HoHEka?dl=0'   sample_data\n"
          ],
          "name": "stdout"
        }
      ]
    },
    {
      "cell_type": "code",
      "metadata": {
        "id": "GAaVBa7Wqkxw",
        "colab_type": "code",
        "colab": {
          "base_uri": "https://localhost:8080/",
          "height": 124
        },
        "outputId": "67095de8-042d-4af0-e7b2-fe2701d4bc76"
      },
      "source": [
        "!unzip AABcdnMtpohQ3keBOe5HoHEka?dl=0"
      ],
      "execution_count": null,
      "outputs": [
        {
          "output_type": "stream",
          "text": [
            "Archive:  AABcdnMtpohQ3keBOe5HoHEka?dl=0\n",
            "warning:  stripped absolute path spec from /\n",
            "mapname:  conversion of  failed\n",
            " extracting: Dataset.zip             \n",
            "\n",
            "1 archive had fatal errors.\n"
          ],
          "name": "stdout"
        }
      ]
    },
    {
      "cell_type": "code",
      "metadata": {
        "id": "W-LkgSo6qwHM",
        "colab_type": "code",
        "colab": {
          "base_uri": "https://localhost:8080/",
          "height": 1000
        },
        "outputId": "e5670e65-b348-49c6-ba9f-91c2a564e7df"
      },
      "source": [
        "!unzip Dataset.zip\n"
      ],
      "execution_count": null,
      "outputs": [
        {
          "output_type": "stream",
          "text": [
            "Archive:  Dataset.zip\n",
            "   creating: Dataset/\n",
            "   creating: Dataset/.ipynb_checkpoints/\n",
            "   creating: Dataset/train/\n",
            "   creating: Dataset/train/Covid/\n",
            "  inflating: Dataset/train/Covid/01E392EE-69F9-4E33-BFCE-E5C968654078.jpeg  \n",
            "  inflating: Dataset/train/Covid/03BF7561-A9BA-4C3C-B8A0-D3E585F73F3C.jpeg  \n",
            "  inflating: Dataset/train/Covid/0a7faa2a.jpg  \n",
            "  inflating: Dataset/train/Covid/1-s2.0-S0140673620303706-fx1_lrg.jpg  \n",
            "  inflating: Dataset/train/Covid/1-s2.0-S1684118220300608-main.pdf-001.jpg  \n",
            "  inflating: Dataset/train/Covid/1-s2.0-S1684118220300608-main.pdf-002.jpg  \n",
            "  inflating: Dataset/train/Covid/1-s2.0-S1684118220300682-main.pdf-002-a1.png  \n",
            "  inflating: Dataset/train/Covid/1-s2.0-S1684118220300682-main.pdf-002-a2.png  \n",
            "  inflating: Dataset/train/Covid/1-s2.0-S1684118220300682-main.pdf-003-b1.png  \n",
            "  inflating: Dataset/train/Covid/1-s2.0-S1684118220300682-main.pdf-003-b2.png  \n",
            "  inflating: Dataset/train/Covid/1-s2.0-S2214250920300834-gr1_lrg-b.png  \n",
            "  inflating: Dataset/train/Covid/1-s2.0-S2214250920300834-gr1_lrg-c.png  \n",
            "  inflating: Dataset/train/Covid/1-s2.0-S2387020620301959-gr4_lrg-b.png  \n",
            "  inflating: Dataset/train/Covid/1-s2.0-S2387020620301959-gr4_lrg-c.png  \n",
            "  inflating: Dataset/train/Covid/1.CXRCTThoraximagesofCOVID-19fromSingapore.pdf-000-fig1a.png  \n",
            "  inflating: Dataset/train/Covid/1.CXRCTThoraximagesofCOVID-19fromSingapore.pdf-000-fig1b.png  \n",
            "  inflating: Dataset/train/Covid/1.CXRCTThoraximagesofCOVID-19fromSingapore.pdf-001-fig2a.png  \n",
            "  inflating: Dataset/train/Covid/1.CXRCTThoraximagesofCOVID-19fromSingapore.pdf-001-fig2b.png  \n",
            "  inflating: Dataset/train/Covid/1.CXRCTThoraximagesofCOVID-19fromSingapore.pdf-002-fig3a.png  \n",
            "  inflating: Dataset/train/Covid/1.CXRCTThoraximagesofCOVID-19fromSingapore.pdf-002-fig3b.png  \n",
            "  inflating: Dataset/train/Covid/1.CXRCTThoraximagesofCOVID-19fromSingapore.pdf-003-fig4a.png  \n",
            "  inflating: Dataset/train/Covid/1.CXRCTThoraximagesofCOVID-19fromSingapore.pdf-003-fig4b.png  \n",
            "  inflating: Dataset/train/Covid/10.1016-slash-j.anl.2020.04.002-a.png  \n",
            " extracting: Dataset/train/Covid/10.1016-slash-j.crad.2020.04.002-a.png  \n",
            " extracting: Dataset/train/Covid/10.1016-slash-j.crad.2020.04.002-b.png  \n",
            " extracting: Dataset/train/Covid/1052b0fe.jpg  \n",
            "  inflating: Dataset/train/Covid/1141cc2b8b9cc394becce5d978b5a7_jumbo.jpeg  \n",
            "  inflating: Dataset/train/Covid/12941_2020_358_Fig1_HTML.jpg  \n",
            "  inflating: Dataset/train/Covid/1312A392-67A3-4EBF-9319-810CF6DA5EF6.jpeg  \n",
            "  inflating: Dataset/train/Covid/14d81f378173b86cc53f21d2d67040_jumbo.jpeg  \n",
            "  inflating: Dataset/train/Covid/16660_1_1.jpg  \n",
            "  inflating: Dataset/train/Covid/16660_2_1.jpg  \n",
            "  inflating: Dataset/train/Covid/16660_3_1.jpg  \n",
            "  inflating: Dataset/train/Covid/16660_4_1.jpg  \n",
            "  inflating: Dataset/train/Covid/16663_1_1.jpg  \n",
            "  inflating: Dataset/train/Covid/16664_1_1.jpg  \n",
            "  inflating: Dataset/train/Covid/16669_3_1.jpeg  \n",
            "  inflating: Dataset/train/Covid/16672_1_1.jpg  \n",
            "  inflating: Dataset/train/Covid/16708_1_1.jpg  \n",
            "  inflating: Dataset/train/Covid/16708_4_1.jpg  \n",
            "  inflating: Dataset/train/Covid/16708_5_1.jpg  \n",
            "  inflating: Dataset/train/Covid/16745_5_1.png  \n",
            "  inflating: Dataset/train/Covid/16747_1_1.jpg  \n",
            "  inflating: Dataset/train/Covid/19abe1f3.jpg  \n",
            "  inflating: Dataset/train/Covid/1B734A89-A1BF-49A8-A1D3-66FAFA4FAC5D.jpeg  \n",
            "  inflating: Dataset/train/Covid/2-chest-filmc.jpg  \n",
            "  inflating: Dataset/train/Covid/2168a917.jpg  \n",
            "  inflating: Dataset/train/Covid/23E99E2E-447C-46E5-8EB2-D35D12473C39.png  \n",
            "  inflating: Dataset/train/Covid/2966893D-5DDF-4B68-9E2B-4979D5956C8E.jpeg  \n",
            "  inflating: Dataset/train/Covid/2C26F453-AF3B-4517-BB9E-802CF2179543.jpeg  \n",
            " extracting: Dataset/train/Covid/2cd63b76.jpg  \n",
            "  inflating: Dataset/train/Covid/353889E0-A1E8-4F9E-A0B8-F24F36BCFBFB.jpeg  \n",
            "  inflating: Dataset/train/Covid/3b46de94.jpg  \n",
            "  inflating: Dataset/train/Covid/40779_2020_233_Fig2_HTML-a.png  \n",
            "  inflating: Dataset/train/Covid/41182_2020_203_Fig3_HTML.jpg  \n",
            "  inflating: Dataset/train/Covid/41182_2020_203_Fig4_HTML.jpg  \n",
            "  inflating: Dataset/train/Covid/41182_2020_203_Fig5_HTML.jpg  \n",
            "  inflating: Dataset/train/Covid/41379_2020_536_Fig2_HTML-c1.png  \n",
            "  inflating: Dataset/train/Covid/41591_2020_819_Fig1_HTML.webp-day10.png  \n",
            "  inflating: Dataset/train/Covid/41591_2020_819_Fig1_HTML.webp-day5.png  \n",
            "  inflating: Dataset/train/Covid/441c9cdd.jpg  \n",
            " extracting: Dataset/train/Covid/48c4542c.jpg  \n",
            "  inflating: Dataset/train/Covid/4d98e1de.jpg  \n",
            "  inflating: Dataset/train/Covid/4e43e48d52c9e2d4c6c1fb9bc1544f_jumbo.jpeg  \n",
            "  inflating: Dataset/train/Covid/53EC07C9-5CC6-4BE4-9B6F-D7B0D72AAA7E.jpeg  \n",
            " extracting: Dataset/train/Covid/5782ae15.jpg  \n",
            "  inflating: Dataset/train/Covid/58cb9263f16e94305c730685358e4e_jumbo.jpeg  \n",
            " extracting: Dataset/train/Covid/5f619d7e.jpg  \n",
            "  inflating: Dataset/train/Covid/6b3bdbc31f65230b8cdcc3cef5f8ba8a-40ac-0.jpg  \n",
            "  inflating: Dataset/train/Covid/6b44464d-73a7-4cf3-bbb6-ffe7168300e3.annot.original.jpeg  \n",
            "  inflating: Dataset/train/Covid/6C94A287-C059-46A0-8600-AFB95F4727B7.jpeg  \n",
            "  inflating: Dataset/train/Covid/6CB4EFC6-68FA-4CD5-940C-BEFA8DAFE9A7.jpeg  \n",
            "  inflating: Dataset/train/Covid/7-fatal-covid19.jpg  \n",
            "  inflating: Dataset/train/Covid/7AF6C1AF-D249-4BD2-8C26-449304105D03.jpeg  \n",
            "  inflating: Dataset/train/Covid/7afaaccc.jpg  \n",
            "  inflating: Dataset/train/Covid/7C69C012-7479-493F-8722-ABC29C60A2DD.jpeg  \n",
            "  inflating: Dataset/train/Covid/80446565-E090-4187-A031-9D3CEAA586C8.jpeg  \n",
            " extracting: Dataset/train/Covid/80b5f00f.jpg  \n",
            "  inflating: Dataset/train/Covid/82a78c13.jpg  \n",
            "  inflating: Dataset/train/Covid/88de9d8c39e946abd495b37cd07d89e5-2ee6-0.jpg  \n",
            "  inflating: Dataset/train/Covid/88de9d8c39e946abd495b37cd07d89e5-6531-0.jpg  \n",
            " extracting: Dataset/train/Covid/8da14fff.jpg  \n",
            "  inflating: Dataset/train/Covid/8fc103ca.jpg  \n",
            "  inflating: Dataset/train/Covid/8FDE8DBA-CFBD-4B4C-B1A4-6F36A93B7E87.jpeg  \n",
            "  inflating: Dataset/train/Covid/90986ce4.jpg  \n",
            "  inflating: Dataset/train/Covid/93FE0BB1-022D-4F24-9727-987A07975FFB.jpeg  \n",
            "  inflating: Dataset/train/Covid/9C34AF49-E589-44D5-92D3-168B3B04E4A6.jpeg  \n",
            "  inflating: Dataset/train/Covid/9fdd3c3032296fd04d2cad5d9070d4_jumbo.jpeg  \n",
            " extracting: Dataset/train/Covid/a2eba651.jpg  \n",
            " extracting: Dataset/train/Covid/a361d7b7.jpg  \n",
            "  inflating: Dataset/train/Covid/a8ac1969.jpg  \n",
            "  inflating: Dataset/train/Covid/ac4f6e4e.jpg  \n",
            "  inflating: Dataset/train/Covid/ae6c954c0039de4b5edee53865ffee43-e6c8-0.jpg  \n",
            "  inflating: Dataset/train/Covid/all14238-fig-0001-m-b.jpg  \n",
            "  inflating: Dataset/train/Covid/all14238-fig-0001-m-c.jpg  \n",
            "  inflating: Dataset/train/Covid/AR-1.jpg  \n",
            "  inflating: Dataset/train/Covid/AR-2.jpg  \n",
            "  inflating: Dataset/train/Covid/article_river_e4d185c06e3511eaa2321d8ab357a1de-c1mn.png  \n",
            "  inflating: Dataset/train/Covid/auntminnie-a-2020_01_28_23_51_6665_2020_01_28_Vietnam_coronavirus.jpeg  \n",
            "  inflating: Dataset/train/Covid/auntminnie-b-2020_01_28_23_51_6665_2020_01_28_Vietnam_coronavirus.jpeg  \n",
            "  inflating: Dataset/train/Covid/auntminnie-c-2020_01_28_23_51_6665_2020_01_28_Vietnam_coronavirus.jpeg  \n",
            "  inflating: Dataset/train/Covid/auntminnie-d-2020_01_28_23_51_6665_2020_01_28_Vietnam_coronavirus.jpeg  \n",
            "  inflating: Dataset/train/Covid/b0f1684d1ee90dc09deef015e29dae_jumbo.jpeg  \n",
            "  inflating: Dataset/train/Covid/b9673e89.jpg  \n",
            " extracting: Dataset/train/Covid/bb0e626a.jpg  \n",
            "  inflating: Dataset/train/Covid/bd10d5e2.jpg  \n",
            "  inflating: Dataset/train/Covid/BMJ-37-163-g1.jpg  \n",
            "  inflating: Dataset/train/Covid/c0f74558.jpg  \n",
            "  inflating: Dataset/train/Covid/c3829ecb.jpg  \n",
            " extracting: Dataset/train/Covid/c601f50d.jpg  \n",
            "  inflating: Dataset/train/Covid/CD50BA96-6982-4C80-AE7B-5F67ACDBFA56.jpeg  \n",
            "  inflating: Dataset/train/Covid/ciaa199.pdf-001-a.png  \n",
            "  inflating: Dataset/train/Covid/ciaa199.pdf-001-b.png  \n",
            "  inflating: Dataset/train/Covid/covid-19-caso-70-1-PA.jpg  \n",
            " extracting: Dataset/train/Covid/covid-19-caso-82-1-8.png  \n",
            "  inflating: Dataset/train/Covid/covid-19-caso-91-1-12.png  \n",
            "  inflating: Dataset/train/Covid/covid-19-caso-94-1-14.png  \n",
            "  inflating: Dataset/train/Covid/covid-19-caso-95-1-15.png  \n",
            "  inflating: Dataset/train/Covid/covid-19-caso-95-3-14.png  \n",
            "  inflating: Dataset/train/Covid/covid-19-infection-exclusive-gastrointestinal-symptoms-pa.png  \n",
            "  inflating: Dataset/train/Covid/covid-19-pneumonia-14-PA.png  \n",
            "  inflating: Dataset/train/Covid/covid-19-pneumonia-15-PA.jpg  \n",
            "  inflating: Dataset/train/Covid/covid-19-pneumonia-20-pa-on-admission.jpg  \n",
            "  inflating: Dataset/train/Covid/covid-19-pneumonia-20.jpg  \n",
            "  inflating: Dataset/train/Covid/covid-19-pneumonia-22-day1-pa.png  \n",
            "  inflating: Dataset/train/Covid/covid-19-pneumonia-22-day2-pa.png  \n",
            " extracting: Dataset/train/Covid/covid-19-pneumonia-28.png  \n",
            "  inflating: Dataset/train/Covid/covid-19-pneumonia-30-PA.jpg  \n",
            "  inflating: Dataset/train/Covid/covid-19-pneumonia-35-1.jpg  \n",
            "  inflating: Dataset/train/Covid/covid-19-pneumonia-35-2.jpg  \n",
            "  inflating: Dataset/train/Covid/covid-19-pneumonia-38-pa.jpg  \n",
            "  inflating: Dataset/train/Covid/covid-19-pneumonia-44-day-0.jpeg  \n",
            "  inflating: Dataset/train/Covid/covid-19-pneumonia-53.jpg  \n",
            "  inflating: Dataset/train/Covid/covid-19-pneumonia-7-PA.jpg  \n",
            "  inflating: Dataset/train/Covid/covid-19-pneumonia-8.jpg  \n",
            " extracting: Dataset/train/Covid/covid-19-pneumonia-93.png  \n",
            "  inflating: Dataset/train/Covid/covid-19-pneumonia-evolution-over-a-week-1-day0-PA.jpg  \n",
            "  inflating: Dataset/train/Covid/covid-19-pneumonia-mild.JPG  \n",
            "  inflating: Dataset/train/Covid/d009d61f.jpg  \n",
            " extracting: Dataset/train/Covid/d9d6ca9a.jpg  \n",
            "  inflating: Dataset/train/Covid/e1446fe8.jpg  \n",
            "  inflating: Dataset/train/Covid/E63574A7-4188-4C8D-8D17-9D67A18A1AFA.jpeg  \n",
            " extracting: Dataset/train/Covid/ec083e35.jpg  \n",
            "  inflating: Dataset/train/Covid/extubation-1.jpg  \n",
            "   creating: Dataset/train/Normal/\n",
            "  inflating: Dataset/train/Normal/IM-0117-0001.jpeg  \n",
            "  inflating: Dataset/train/Normal/IM-0131-0001.jpeg  \n",
            "  inflating: Dataset/train/Normal/IM-0143-0001.jpeg  \n",
            "  inflating: Dataset/train/Normal/IM-0152-0001.jpeg  \n",
            "  inflating: Dataset/train/Normal/IM-0162-0001.jpeg  \n",
            "  inflating: Dataset/train/Normal/IM-0170-0001.jpeg  \n",
            "  inflating: Dataset/train/Normal/IM-0177-0001.jpeg  \n",
            "  inflating: Dataset/train/Normal/IM-0180-0001.jpeg  \n",
            "  inflating: Dataset/train/Normal/IM-0193-0001.jpeg  \n",
            "  inflating: Dataset/train/Normal/IM-0218-0001.jpeg  \n",
            "  inflating: Dataset/train/Normal/IM-0227-0001.jpeg  \n",
            "  inflating: Dataset/train/Normal/IM-0235-0001.jpeg  \n",
            "  inflating: Dataset/train/Normal/IM-0236-0001.jpeg  \n",
            "  inflating: Dataset/train/Normal/IM-0238-0001.jpeg  \n",
            "  inflating: Dataset/train/Normal/IM-0240-0001.jpeg  \n",
            "  inflating: Dataset/train/Normal/IM-0242-0001.jpeg  \n",
            "  inflating: Dataset/train/Normal/IM-0264-0001.jpeg  \n",
            "  inflating: Dataset/train/Normal/IM-0268-0001.jpeg  \n",
            "  inflating: Dataset/train/Normal/IM-0286-0001.jpeg  \n",
            "  inflating: Dataset/train/Normal/IM-0300-0001.jpeg  \n",
            "  inflating: Dataset/train/Normal/IM-0307-0001.jpeg  \n",
            "  inflating: Dataset/train/Normal/IM-0308-0001.jpeg  \n",
            "  inflating: Dataset/train/Normal/IM-0313-0001.jpeg  \n",
            "  inflating: Dataset/train/Normal/IM-0317-0001.jpeg  \n",
            "  inflating: Dataset/train/Normal/IM-0323-0001.jpeg  \n",
            "  inflating: Dataset/train/Normal/IM-0330-0001.jpeg  \n",
            "  inflating: Dataset/train/Normal/IM-0337-0001.jpeg  \n",
            "  inflating: Dataset/train/Normal/IM-0339-0001.jpeg  \n",
            "  inflating: Dataset/train/Normal/IM-0340-0001.jpeg  \n",
            "  inflating: Dataset/train/Normal/IM-0356-0001.jpeg  \n",
            "  inflating: Dataset/train/Normal/IM-0362-0001.jpeg  \n",
            "  inflating: Dataset/train/Normal/IM-0385-0001.jpeg  \n",
            "  inflating: Dataset/train/Normal/IM-0391-0001.jpeg  \n",
            "  inflating: Dataset/train/Normal/IM-0393-0001.jpeg  \n",
            "  inflating: Dataset/train/Normal/IM-0405-0001.jpeg  \n",
            "  inflating: Dataset/train/Normal/IM-0423-0001.jpeg  \n",
            "  inflating: Dataset/train/Normal/IM-0428-0001.jpeg  \n",
            "  inflating: Dataset/train/Normal/IM-0449-0001.jpeg  \n",
            "  inflating: Dataset/train/Normal/IM-0451-0001.jpeg  \n",
            "  inflating: Dataset/train/Normal/IM-0452-0001.jpeg  \n",
            "  inflating: Dataset/train/Normal/IM-0453-0001.jpeg  \n",
            "  inflating: Dataset/train/Normal/IM-0461-0001.jpeg  \n",
            "  inflating: Dataset/train/Normal/IM-0471-0001.jpeg  \n",
            "  inflating: Dataset/train/Normal/IM-0472-0001.jpeg  \n",
            "  inflating: Dataset/train/Normal/IM-0486-0001.jpeg  \n",
            "  inflating: Dataset/train/Normal/IM-0487-0001.jpeg  \n",
            "  inflating: Dataset/train/Normal/IM-0510-0001.jpeg  \n",
            "  inflating: Dataset/train/Normal/IM-0511-0001-0002.jpeg  \n",
            "  inflating: Dataset/train/Normal/IM-0511-0001.jpeg  \n",
            "  inflating: Dataset/train/Normal/IM-0519-0001.jpeg  \n",
            "  inflating: Dataset/train/Normal/IM-0525-0001.jpeg  \n",
            "  inflating: Dataset/train/Normal/IM-0527-0001.jpeg  \n",
            "  inflating: Dataset/train/Normal/IM-0529-0001.jpeg  \n",
            "  inflating: Dataset/train/Normal/IM-0531-0001-0001.jpeg  \n",
            "  inflating: Dataset/train/Normal/IM-0536-0001.jpeg  \n",
            "  inflating: Dataset/train/Normal/IM-0546-0001.jpeg  \n",
            "  inflating: Dataset/train/Normal/IM-0553-0001-0001.jpeg  \n",
            "  inflating: Dataset/train/Normal/IM-0554-0001.jpeg  \n",
            "  inflating: Dataset/train/Normal/IM-0568-0001.jpeg  \n",
            "  inflating: Dataset/train/Normal/IM-0579-0001.jpeg  \n",
            "  inflating: Dataset/train/Normal/IM-0588-0001.jpeg  \n",
            "  inflating: Dataset/train/Normal/IM-0599-0001.jpeg  \n",
            "  inflating: Dataset/train/Normal/IM-0605-0001.jpeg  \n",
            "  inflating: Dataset/train/Normal/IM-0618-0001-0002.jpeg  \n",
            "  inflating: Dataset/train/Normal/IM-0619-0001.jpeg  \n",
            "  inflating: Dataset/train/Normal/IM-0623-0001.jpeg  \n",
            "  inflating: Dataset/train/Normal/IM-0629-0001-0001.jpeg  \n",
            "  inflating: Dataset/train/Normal/IM-0631-0001-0002.jpeg  \n",
            "  inflating: Dataset/train/Normal/IM-0631-0001.jpeg  \n",
            "  inflating: Dataset/train/Normal/IM-0636-0001.jpeg  \n",
            "  inflating: Dataset/train/Normal/IM-0649-0001.jpeg  \n",
            "  inflating: Dataset/train/Normal/IM-0651-0001.jpeg  \n",
            "  inflating: Dataset/train/Normal/IM-0652-0001.jpeg  \n",
            "  inflating: Dataset/train/Normal/IM-0655-0001.jpeg  \n",
            "  inflating: Dataset/train/Normal/IM-0657-0001.jpeg  \n",
            "  inflating: Dataset/train/Normal/IM-0668-0001.jpeg  \n",
            "  inflating: Dataset/train/Normal/IM-0670-0001.jpeg  \n",
            "  inflating: Dataset/train/Normal/IM-0672-0001.jpeg  \n",
            "  inflating: Dataset/train/Normal/IM-0704-0001.jpeg  \n",
            "  inflating: Dataset/train/Normal/IM-0718-0001.jpeg  \n",
            "  inflating: Dataset/train/Normal/IM-0742-0001.jpeg  \n",
            "  inflating: Dataset/train/Normal/IM-0748-0001.jpeg  \n",
            "  inflating: Dataset/train/Normal/NORMAL2-IM-0389-0001.jpeg  \n",
            "  inflating: Dataset/train/Normal/NORMAL2-IM-0396-0001.jpeg  \n",
            "  inflating: Dataset/train/Normal/NORMAL2-IM-0409-0001.jpeg  \n",
            "  inflating: Dataset/train/Normal/NORMAL2-IM-0416-0001-0001.jpeg  \n",
            "  inflating: Dataset/train/Normal/NORMAL2-IM-0416-0001.jpeg  \n",
            "  inflating: Dataset/train/Normal/NORMAL2-IM-0428-0001.jpeg  \n",
            "  inflating: Dataset/train/Normal/NORMAL2-IM-0441-0001.jpeg  \n",
            "  inflating: Dataset/train/Normal/NORMAL2-IM-0463-0001.jpeg  \n",
            "  inflating: Dataset/train/Normal/NORMAL2-IM-0466-0001.jpeg  \n",
            "  inflating: Dataset/train/Normal/NORMAL2-IM-0481-0001.jpeg  \n",
            "  inflating: Dataset/train/Normal/NORMAL2-IM-0486-0001.jpeg  \n",
            "  inflating: Dataset/train/Normal/NORMAL2-IM-0490-0001.jpeg  \n",
            "  inflating: Dataset/train/Normal/NORMAL2-IM-0496-0001.jpeg  \n",
            "  inflating: Dataset/train/Normal/NORMAL2-IM-0512-0001.jpeg  \n",
            "  inflating: Dataset/train/Normal/NORMAL2-IM-0516-0001.jpeg  \n",
            "  inflating: Dataset/train/Normal/NORMAL2-IM-0525-0001.jpeg  \n",
            "  inflating: Dataset/train/Normal/NORMAL2-IM-0530-0001.jpeg  \n",
            "  inflating: Dataset/train/Normal/NORMAL2-IM-0536-0001.jpeg  \n",
            "  inflating: Dataset/train/Normal/NORMAL2-IM-0543-0001.jpeg  \n",
            "  inflating: Dataset/train/Normal/NORMAL2-IM-0545-0001.jpeg  \n",
            "  inflating: Dataset/train/Normal/NORMAL2-IM-0547-0001.jpeg  \n",
            "  inflating: Dataset/train/Normal/NORMAL2-IM-0555-0001-0002.jpeg  \n",
            "  inflating: Dataset/train/Normal/NORMAL2-IM-0568-0001.jpeg  \n",
            "  inflating: Dataset/train/Normal/NORMAL2-IM-0579-0001.jpeg  \n",
            "  inflating: Dataset/train/Normal/NORMAL2-IM-0585-0001.jpeg  \n",
            "  inflating: Dataset/train/Normal/NORMAL2-IM-0588-0001.jpeg  \n",
            "  inflating: Dataset/train/Normal/NORMAL2-IM-0596-0001.jpeg  \n",
            "  inflating: Dataset/train/Normal/NORMAL2-IM-0626-0001.jpeg  \n",
            "  inflating: Dataset/train/Normal/NORMAL2-IM-0643-0001.jpeg  \n",
            "  inflating: Dataset/train/Normal/NORMAL2-IM-0645-0001.jpeg  \n",
            "  inflating: Dataset/train/Normal/NORMAL2-IM-0652-0001.jpeg  \n",
            "  inflating: Dataset/train/Normal/NORMAL2-IM-0657-0001.jpeg  \n",
            "  inflating: Dataset/train/Normal/NORMAL2-IM-0690-0001.jpeg  \n",
            "  inflating: Dataset/train/Normal/NORMAL2-IM-0692-0001.jpeg  \n",
            "  inflating: Dataset/train/Normal/NORMAL2-IM-0694-0001.jpeg  \n",
            "  inflating: Dataset/train/Normal/NORMAL2-IM-0727-0001.jpeg  \n",
            "  inflating: Dataset/train/Normal/NORMAL2-IM-0744-0001.jpeg  \n",
            "  inflating: Dataset/train/Normal/NORMAL2-IM-0753-0001.jpeg  \n",
            "  inflating: Dataset/train/Normal/NORMAL2-IM-0765-0001.jpeg  \n",
            "  inflating: Dataset/train/Normal/NORMAL2-IM-0776-0001.jpeg  \n",
            "  inflating: Dataset/train/Normal/NORMAL2-IM-0777-0001.jpeg  \n",
            "  inflating: Dataset/train/Normal/NORMAL2-IM-0790-0001.jpeg  \n",
            "  inflating: Dataset/train/Normal/NORMAL2-IM-0808-0001.jpeg  \n",
            "  inflating: Dataset/train/Normal/NORMAL2-IM-0816-0001.jpeg  \n",
            "  inflating: Dataset/train/Normal/NORMAL2-IM-0834-0001.jpeg  \n",
            "  inflating: Dataset/train/Normal/NORMAL2-IM-0837-0001.jpeg  \n",
            "  inflating: Dataset/train/Normal/NORMAL2-IM-0848-0001.jpeg  \n",
            "  inflating: Dataset/train/Normal/NORMAL2-IM-0851-0001.jpeg  \n",
            "  inflating: Dataset/train/Normal/NORMAL2-IM-0855-0001.jpeg  \n",
            "  inflating: Dataset/train/Normal/NORMAL2-IM-0860-0001.jpeg  \n",
            "  inflating: Dataset/train/Normal/NORMAL2-IM-0867-0001.jpeg  \n",
            "  inflating: Dataset/train/Normal/NORMAL2-IM-0873-0001.jpeg  \n",
            "  inflating: Dataset/train/Normal/NORMAL2-IM-0874-0001.jpeg  \n",
            "  inflating: Dataset/train/Normal/NORMAL2-IM-0876-0001.jpeg  \n",
            "  inflating: Dataset/train/Normal/NORMAL2-IM-0886-0001.jpeg  \n",
            "  inflating: Dataset/train/Normal/NORMAL2-IM-0919-0001.jpeg  \n",
            "  inflating: Dataset/train/Normal/NORMAL2-IM-0922-0001.jpeg  \n",
            "  inflating: Dataset/train/Normal/NORMAL2-IM-0930-0001.jpeg  \n",
            "  inflating: Dataset/train/Normal/NORMAL2-IM-0934-0001.jpeg  \n",
            "  inflating: Dataset/train/Normal/NORMAL2-IM-0935-0001.jpeg  \n",
            "  inflating: Dataset/train/Normal/NORMAL2-IM-0941-0001.jpeg  \n",
            "  inflating: Dataset/train/Normal/NORMAL2-IM-0946-0001.jpeg  \n",
            "   creating: Dataset/val/\n",
            "   creating: Dataset/val/Covid/\n",
            "  inflating: Dataset/val/Covid/extubation-13.jpg  \n",
            "  inflating: Dataset/val/Covid/extubation-4.jpg  \n",
            "  inflating: Dataset/val/Covid/extubation-8.jpg  \n",
            "  inflating: Dataset/val/Covid/F4341CE7-73C9-45C6-99C8-8567A5484B63.jpeg  \n",
            "  inflating: Dataset/val/Covid/f64132c8.jpg  \n",
            "  inflating: Dataset/val/Covid/f6575117.jpg  \n",
            "  inflating: Dataset/val/Covid/f6d980a0.jpg  \n",
            "  inflating: Dataset/val/Covid/f8335316.jpg  \n",
            "  inflating: Dataset/val/Covid/FE9F9A5D-2830-46F9-851B-1FF4534959BE.jpeg  \n",
            " extracting: Dataset/val/Covid/fff49165-b22d-4bb4-b9d1-d5d62c52436c.annot.original.png  \n",
            " extracting: Dataset/val/Covid/figure1-5e71be566aa8714a04de3386-98-left.jpeg  \n",
            "  inflating: Dataset/val/Covid/figure1-5e75d0940b71e1b702629659-98-right.jpeg  \n",
            "  inflating: Dataset/val/Covid/gr1_lrg-a.jpg  \n",
            "  inflating: Dataset/val/Covid/gr1_lrg-b.jpg  \n",
            "  inflating: Dataset/val/Covid/kjr-21-e25-g001-l-a.jpg  \n",
            "  inflating: Dataset/val/Covid/lancet-case2a.jpg  \n",
            "  inflating: Dataset/val/Covid/lancet-case2b.jpg  \n",
            "  inflating: Dataset/val/Covid/nCoV-radiol.2020200269.fig1-day7.jpeg  \n",
            "  inflating: Dataset/val/Covid/nejmc2001573_f1a.jpeg  \n",
            "  inflating: Dataset/val/Covid/nejmc2001573_f1b.jpeg  \n",
            "  inflating: Dataset/val/Covid/nejmoa2001191_f1-PA.jpeg  \n",
            "  inflating: Dataset/val/Covid/nejmoa2001191_f3-PA.jpeg  \n",
            "  inflating: Dataset/val/Covid/nejmoa2001191_f4.jpeg  \n",
            "  inflating: Dataset/val/Covid/nejmoa2001191_f5-PA.jpeg  \n",
            "  inflating: Dataset/val/Covid/paving.jpg  \n",
            "  inflating: Dataset/val/Covid/radiol.2020200274.fig3d.png  \n",
            "  inflating: Dataset/val/Covid/radiol.2020200490.fig3.jpeg  \n",
            "  inflating: Dataset/val/Covid/ryct.2020200028.fig1a.jpeg  \n",
            "  inflating: Dataset/val/Covid/ryct.2020200034.fig2.jpeg  \n",
            "  inflating: Dataset/val/Covid/ryct.2020200034.fig5-day0.jpeg  \n",
            "  inflating: Dataset/val/Covid/ryct.2020200034.fig5-day4.jpeg  \n",
            "  inflating: Dataset/val/Covid/ryct.2020200034.fig5-day7.jpeg  \n",
            "  inflating: Dataset/val/Covid/thnov10p5641g006-c.png  \n",
            " extracting: Dataset/val/Covid/tpmd200203f2-b.png  \n",
            " extracting: Dataset/val/Covid/tpmd200203f2-c.png  \n",
            "  inflating: Dataset/val/Covid/yxppt-2020-02-19_00-51-27_287214-day8.jpg  \n",
            "   creating: Dataset/val/Normal/\n",
            "  inflating: Dataset/val/Normal/NORMAL2-IM-0948-0001.jpeg  \n",
            "  inflating: Dataset/val/Normal/NORMAL2-IM-0954-0001.jpeg  \n",
            "  inflating: Dataset/val/Normal/NORMAL2-IM-0956-0001.jpeg  \n",
            "  inflating: Dataset/val/Normal/NORMAL2-IM-0971-0001-0002.jpeg  \n",
            "  inflating: Dataset/val/Normal/NORMAL2-IM-0977-0001.jpeg  \n",
            "  inflating: Dataset/val/Normal/NORMAL2-IM-0994-0001.jpeg  \n",
            "  inflating: Dataset/val/Normal/NORMAL2-IM-0997-0001.jpeg  \n",
            "  inflating: Dataset/val/Normal/NORMAL2-IM-1020-0001-0001.jpeg  \n",
            "  inflating: Dataset/val/Normal/NORMAL2-IM-1047-0001.jpeg  \n",
            "  inflating: Dataset/val/Normal/NORMAL2-IM-1091-0001.jpeg  \n",
            "  inflating: Dataset/val/Normal/NORMAL2-IM-1102-0001-0001.jpeg  \n",
            "  inflating: Dataset/val/Normal/NORMAL2-IM-1103-0001-0001.jpeg  \n",
            "  inflating: Dataset/val/Normal/NORMAL2-IM-1104-0001.jpeg  \n",
            "  inflating: Dataset/val/Normal/NORMAL2-IM-1117-0001.jpeg  \n",
            "  inflating: Dataset/val/Normal/NORMAL2-IM-1135-0001.jpeg  \n",
            "  inflating: Dataset/val/Normal/NORMAL2-IM-1162-0001.jpeg  \n",
            "  inflating: Dataset/val/Normal/NORMAL2-IM-1176-0001.jpeg  \n",
            "  inflating: Dataset/val/Normal/NORMAL2-IM-1179-0001.jpeg  \n",
            "  inflating: Dataset/val/Normal/NORMAL2-IM-1191-0001.jpeg  \n",
            "  inflating: Dataset/val/Normal/NORMAL2-IM-1202-0001.jpeg  \n",
            "  inflating: Dataset/val/Normal/NORMAL2-IM-1219-0001.jpeg  \n",
            "  inflating: Dataset/val/Normal/NORMAL2-IM-1220-0001.jpeg  \n",
            "  inflating: Dataset/val/Normal/NORMAL2-IM-1227-0001.jpeg  \n",
            "  inflating: Dataset/val/Normal/NORMAL2-IM-1241-0001.jpeg  \n",
            "  inflating: Dataset/val/Normal/NORMAL2-IM-1253-0001.jpeg  \n",
            "  inflating: Dataset/val/Normal/NORMAL2-IM-1256-0001.jpeg  \n",
            "  inflating: Dataset/val/Normal/NORMAL2-IM-1257-0001.jpeg  \n",
            "  inflating: Dataset/val/Normal/NORMAL2-IM-1269-0001.jpeg  \n",
            "  inflating: Dataset/val/Normal/NORMAL2-IM-1272-0001.jpeg  \n",
            "  inflating: Dataset/val/Normal/NORMAL2-IM-1277-0001.jpeg  \n",
            "  inflating: Dataset/val/Normal/NORMAL2-IM-1291-0001.jpeg  \n",
            "  inflating: Dataset/val/Normal/NORMAL2-IM-1301-0001.jpeg  \n",
            "  inflating: Dataset/val/Normal/NORMAL2-IM-1310-0001.jpeg  \n",
            "  inflating: Dataset/val/Normal/NORMAL2-IM-1314-0001.jpeg  \n",
            "  inflating: Dataset/val/Normal/NORMAL2-IM-1316-0001.jpeg  \n",
            "  inflating: Dataset/val/Normal/NORMAL2-IM-1345-0001-0002.jpeg  \n"
          ],
          "name": "stdout"
        }
      ]
    },
    {
      "cell_type": "code",
      "metadata": {
        "id": "MpOgrsuGqy_k",
        "colab_type": "code",
        "colab": {}
      },
      "source": [
        "Train_path = \"Dataset/train\"\n",
        "Val_path = \"Dataset/val\""
      ],
      "execution_count": null,
      "outputs": []
    },
    {
      "cell_type": "code",
      "metadata": {
        "id": "ejpd36AgxrQH",
        "colab_type": "code",
        "colab": {}
      },
      "source": [
        "import numpy as np\n",
        "import matplotlib.pyplot as plt\n",
        "import os\n",
        "import keras\n",
        "from keras.layers import *\n",
        "from keras.models import Sequential\n",
        "from keras.preprocessing import image"
      ],
      "execution_count": null,
      "outputs": []
    },
    {
      "cell_type": "code",
      "metadata": {
        "id": "HicPt8o0yZ7I",
        "colab_type": "code",
        "colab": {
          "base_uri": "https://localhost:8080/",
          "height": 657
        },
        "outputId": "7c18648d-d2a6-4912-9b04-60c66703d9d8"
      },
      "source": [
        "model=Sequential()\n",
        "model.add(Conv2D(32,(3,3),activation='relu',input_shape=(224,224,3)))\n",
        "model.add(Conv2D(64,(3,3),activation='relu'))\n",
        "model.add(MaxPooling2D((2,2)))\n",
        "model.add(Dropout(0.25))\n",
        "model.add(Conv2D(64,(3,3),activation='relu'))\n",
        "model.add(MaxPooling2D((2,2)))\n",
        "model.add(Dropout(0.25))\n",
        "model.add(Conv2D(128,(3,3),activation='relu'))\n",
        "model.add(MaxPooling2D((2,2)))\n",
        "model.add(Dropout(0.25))\n",
        "model.add(Flatten())\n",
        "model.add(Dense(64,activation='relu'))\n",
        "model.add(Dropout(0.5))\n",
        "model.add(Dense(1,activation='sigmoid'))\n",
        "model.summary()\n",
        "model.compile(loss='binary_crossentropy',metrics=['accuracy'],optimizer='adam')"
      ],
      "execution_count": null,
      "outputs": [
        {
          "output_type": "stream",
          "text": [
            "Model: \"sequential_2\"\n",
            "_________________________________________________________________\n",
            "Layer (type)                 Output Shape              Param #   \n",
            "=================================================================\n",
            "conv2d_8 (Conv2D)            (None, 222, 222, 32)      896       \n",
            "_________________________________________________________________\n",
            "conv2d_9 (Conv2D)            (None, 220, 220, 64)      18496     \n",
            "_________________________________________________________________\n",
            "max_pooling2d_6 (MaxPooling2 (None, 110, 110, 64)      0         \n",
            "_________________________________________________________________\n",
            "dropout_8 (Dropout)          (None, 110, 110, 64)      0         \n",
            "_________________________________________________________________\n",
            "conv2d_10 (Conv2D)           (None, 108, 108, 64)      36928     \n",
            "_________________________________________________________________\n",
            "max_pooling2d_7 (MaxPooling2 (None, 54, 54, 64)        0         \n",
            "_________________________________________________________________\n",
            "dropout_9 (Dropout)          (None, 54, 54, 64)        0         \n",
            "_________________________________________________________________\n",
            "conv2d_11 (Conv2D)           (None, 52, 52, 128)       73856     \n",
            "_________________________________________________________________\n",
            "max_pooling2d_8 (MaxPooling2 (None, 26, 26, 128)       0         \n",
            "_________________________________________________________________\n",
            "dropout_10 (Dropout)         (None, 26, 26, 128)       0         \n",
            "_________________________________________________________________\n",
            "flatten_2 (Flatten)          (None, 86528)             0         \n",
            "_________________________________________________________________\n",
            "dense_4 (Dense)              (None, 64)                5537856   \n",
            "_________________________________________________________________\n",
            "dropout_11 (Dropout)         (None, 64)                0         \n",
            "_________________________________________________________________\n",
            "dense_5 (Dense)              (None, 1)                 65        \n",
            "=================================================================\n",
            "Total params: 5,668,097\n",
            "Trainable params: 5,668,097\n",
            "Non-trainable params: 0\n",
            "_________________________________________________________________\n"
          ],
          "name": "stdout"
        }
      ]
    },
    {
      "cell_type": "code",
      "metadata": {
        "id": "ElIItpp6yhZS",
        "colab_type": "code",
        "colab": {
          "base_uri": "https://localhost:8080/",
          "height": 266
        },
        "outputId": "b979c546-0cdd-4507-a54a-93e7d87f6c88"
      },
      "source": [
        "for ilayer, layer in enumerate(model.layers):\n",
        "    print(\"{:3.0f} {:10}\".format(ilayer, layer.name))"
      ],
      "execution_count": null,
      "outputs": [
        {
          "output_type": "stream",
          "text": [
            "  0 conv2d_8  \n",
            "  1 conv2d_9  \n",
            "  2 max_pooling2d_6\n",
            "  3 dropout_8 \n",
            "  4 conv2d_10 \n",
            "  5 max_pooling2d_7\n",
            "  6 dropout_9 \n",
            "  7 conv2d_11 \n",
            "  8 max_pooling2d_8\n",
            "  9 dropout_10\n",
            " 10 flatten_2 \n",
            " 11 dense_4   \n",
            " 12 dropout_11\n",
            " 13 dense_5   \n"
          ],
          "name": "stdout"
        }
      ]
    },
    {
      "cell_type": "code",
      "metadata": {
        "id": "-k3TBkTe5I9V",
        "colab_type": "code",
        "colab": {}
      },
      "source": [
        "train_data_gen = image.ImageDataGenerator(rescale=1/255.0,shear_range=0.2,zoom_range=0.2,horizontal_flip=True)\n",
        "test_data_gen = image.ImageDataGenerator(rescale=1/255.0)"
      ],
      "execution_count": null,
      "outputs": []
    },
    {
      "cell_type": "code",
      "metadata": {
        "id": "CuxhieOxEbPN",
        "colab_type": "code",
        "colab": {
          "base_uri": "https://localhost:8080/",
          "height": 35
        },
        "outputId": "95b3c451-6193-4495-d0ea-206c9dc5c2c9"
      },
      "source": [
        "train_generator = train_data_gen.flow_from_directory('Dataset/train',target_size=(224,224),batch_size=32,class_mode='binary')"
      ],
      "execution_count": null,
      "outputs": [
        {
          "output_type": "stream",
          "text": [
            "Found 288 images belonging to 2 classes.\n"
          ],
          "name": "stdout"
        }
      ]
    },
    {
      "cell_type": "code",
      "metadata": {
        "id": "nVrnZr0WE8mR",
        "colab_type": "code",
        "colab": {
          "base_uri": "https://localhost:8080/",
          "height": 35
        },
        "outputId": "4d0ec3cc-46d9-4e2c-a621-1cb09ad1f235"
      },
      "source": [
        "val_generator = test_data_gen.flow_from_directory('Dataset/val',target_size=(224,224),batch_size=32,class_mode='binary')"
      ],
      "execution_count": null,
      "outputs": [
        {
          "output_type": "stream",
          "text": [
            "Found 72 images belonging to 2 classes.\n"
          ],
          "name": "stdout"
        }
      ]
    },
    {
      "cell_type": "code",
      "metadata": {
        "id": "Uh0jrST7FtnG",
        "colab_type": "code",
        "colab": {
          "base_uri": "https://localhost:8080/",
          "height": 35
        },
        "outputId": "ad9f8142-ac06-414e-81b6-925835b82acd"
      },
      "source": [
        "hist = model.fit_generator(train_generator,steps_per_epoch=2,epochs=1,validation_data=val_generator,validation_steps=2)"
      ],
      "execution_count": null,
      "outputs": [
        {
          "output_type": "stream",
          "text": [
            "2/2 [==============================] - 5s 2s/step - loss: 0.0937 - accuracy: 0.9688 - val_loss: 0.1915 - val_accuracy: 0.9531\n"
          ],
          "name": "stdout"
        }
      ]
    },
    {
      "cell_type": "code",
      "metadata": {
        "id": "awZX5e-RGYQc",
        "colab_type": "code",
        "colab": {
          "base_uri": "https://localhost:8080/",
          "height": 161
        },
        "outputId": "7cf7ff7e-5653-4789-b8f3-9f3c94be9fd5"
      },
      "source": [
        "model.save(\"my_model\")"
      ],
      "execution_count": null,
      "outputs": [
        {
          "output_type": "stream",
          "text": [
            "WARNING:tensorflow:From /usr/local/lib/python3.6/dist-packages/tensorflow/python/training/tracking/tracking.py:111: Model.state_updates (from tensorflow.python.keras.engine.training) is deprecated and will be removed in a future version.\n",
            "Instructions for updating:\n",
            "This property should not be used in TensorFlow 2.0, as updates are applied automatically.\n",
            "WARNING:tensorflow:From /usr/local/lib/python3.6/dist-packages/tensorflow/python/training/tracking/tracking.py:111: Layer.updates (from tensorflow.python.keras.engine.base_layer) is deprecated and will be removed in a future version.\n",
            "Instructions for updating:\n",
            "This property should not be used in TensorFlow 2.0, as updates are applied automatically.\n",
            "INFO:tensorflow:Assets written to: my_model/assets\n"
          ],
          "name": "stdout"
        }
      ]
    },
    {
      "cell_type": "code",
      "metadata": {
        "id": "gDMroILhVSgP",
        "colab_type": "code",
        "colab": {
          "base_uri": "https://localhost:8080/",
          "height": 108
        },
        "outputId": "63dd0d72-482c-43fe-adda-decf7168da71"
      },
      "source": [
        "model.evaluate_generator(train_generator)"
      ],
      "execution_count": null,
      "outputs": [
        {
          "output_type": "stream",
          "text": [
            "WARNING:tensorflow:From <ipython-input-39-e4ade065aa26>:1: Model.evaluate_generator (from tensorflow.python.keras.engine.training) is deprecated and will be removed in a future version.\n",
            "Instructions for updating:\n",
            "Please use Model.evaluate, which supports generators.\n"
          ],
          "name": "stdout"
        },
        {
          "output_type": "execute_result",
          "data": {
            "text/plain": [
              "[0.08793498575687408, 0.9756944179534912]"
            ]
          },
          "metadata": {
            "tags": []
          },
          "execution_count": 39
        }
      ]
    },
    {
      "cell_type": "code",
      "metadata": {
        "id": "ux9zqRkoVZZC",
        "colab_type": "code",
        "colab": {
          "base_uri": "https://localhost:8080/",
          "height": 52
        },
        "outputId": "cb3dff80-c7a3-473f-8f7b-bc64173f3fe0"
      },
      "source": [
        "model.evaluate(val_generator)"
      ],
      "execution_count": null,
      "outputs": [
        {
          "output_type": "stream",
          "text": [
            "3/3 [==============================] - 1s 470ms/step - loss: 0.1716 - accuracy: 0.9583\n"
          ],
          "name": "stdout"
        },
        {
          "output_type": "execute_result",
          "data": {
            "text/plain": [
              "[0.17164483666419983, 0.9583333134651184]"
            ]
          },
          "metadata": {
            "tags": []
          },
          "execution_count": 40
        }
      ]
    },
    {
      "cell_type": "code",
      "metadata": {
        "id": "KAofwIu2WkWh",
        "colab_type": "code",
        "colab": {
          "base_uri": "https://localhost:8080/",
          "height": 70
        },
        "outputId": "a9b9db9d-c760-41e3-ca2c-2a79991459b8"
      },
      "source": [
        "!sudo pip install h5py"
      ],
      "execution_count": null,
      "outputs": [
        {
          "output_type": "stream",
          "text": [
            "Requirement already satisfied: h5py in /usr/local/lib/python3.6/dist-packages (2.10.0)\n",
            "Requirement already satisfied: numpy>=1.7 in /usr/local/lib/python3.6/dist-packages (from h5py) (1.18.5)\n",
            "Requirement already satisfied: six in /usr/local/lib/python3.6/dist-packages (from h5py) (1.15.0)\n"
          ],
          "name": "stdout"
        }
      ]
    },
    {
      "cell_type": "code",
      "metadata": {
        "id": "oF1mqUiDVjO6",
        "colab_type": "code",
        "colab": {}
      },
      "source": [
        "model = keras.models.load_model(\"my_model\")"
      ],
      "execution_count": null,
      "outputs": []
    },
    {
      "cell_type": "code",
      "metadata": {
        "id": "wUIuqNiMV2bC",
        "colab_type": "code",
        "colab": {
          "base_uri": "https://localhost:8080/",
          "height": 35
        },
        "outputId": "c5900639-96e4-4ffb-bcfb-faa3d8dbba8b"
      },
      "source": [
        "train_generator.class_indices"
      ],
      "execution_count": null,
      "outputs": [
        {
          "output_type": "execute_result",
          "data": {
            "text/plain": [
              "{'Covid': 0, 'Normal': 1}"
            ]
          },
          "metadata": {
            "tags": []
          },
          "execution_count": 42
        }
      ]
    },
    {
      "cell_type": "code",
      "metadata": {
        "id": "60jTxuc6X3XC",
        "colab_type": "code",
        "colab": {}
      },
      "source": [
        "y_actual=[]\n",
        "y_pred = []"
      ],
      "execution_count": null,
      "outputs": []
    },
    {
      "cell_type": "code",
      "metadata": {
        "id": "bCX6n_uSYOVo",
        "colab_type": "code",
        "colab": {
          "base_uri": "https://localhost:8080/",
          "height": 90
        },
        "outputId": "0fd7eb08-0206-4644-c8d3-879ca8a716b9"
      },
      "source": [
        "for i in os.listdir('./Dataset/val/Normal/'):\n",
        "  img = image.load_img('./Dataset/val/Normal/'+i,target_size=(224,224))\n",
        "  img = image.img_to_array(img)\n",
        "  img = np.expand_dims(img,axis=0)\n",
        "  p = model.predict_classes(img)\n",
        "  y_pred.append(p[0,0])\n",
        "  y_actual.append(1)"
      ],
      "execution_count": null,
      "outputs": [
        {
          "output_type": "stream",
          "text": [
            "WARNING:tensorflow:From <ipython-input-44-5b229df551b0>:5: Sequential.predict_classes (from tensorflow.python.keras.engine.sequential) is deprecated and will be removed after 2021-01-01.\n",
            "Instructions for updating:\n",
            "Please use instead:* `np.argmax(model.predict(x), axis=-1)`,   if your model does multi-class classification   (e.g. if it uses a `softmax` last-layer activation).* `(model.predict(x) > 0.5).astype(\"int32\")`,   if your model does binary classification   (e.g. if it uses a `sigmoid` last-layer activation).\n"
          ],
          "name": "stdout"
        }
      ]
    },
    {
      "cell_type": "code",
      "metadata": {
        "id": "aWnEI9qMZT_M",
        "colab_type": "code",
        "colab": {}
      },
      "source": [
        "for i in os.listdir('./Dataset/val/Covid/'):\n",
        "  img = image.load_img('./Dataset/val/Covid/'+i,target_size=(224,224))\n",
        "  img = image.img_to_array(img)\n",
        "  img = np.expand_dims(img,axis=0)\n",
        "  p = model.predict_classes(img)\n",
        "  y_pred.append(p[0,0])\n",
        "  y_actual.append(0)"
      ],
      "execution_count": null,
      "outputs": []
    },
    {
      "cell_type": "code",
      "metadata": {
        "id": "HDYY74EQZnMg",
        "colab_type": "code",
        "colab": {}
      },
      "source": [
        "y_actual = np.array(y_actual)\n",
        "y_pred = np.array(y_pred)"
      ],
      "execution_count": null,
      "outputs": []
    },
    {
      "cell_type": "code",
      "metadata": {
        "id": "veq9CfUZZ9kR",
        "colab_type": "code",
        "colab": {}
      },
      "source": [
        "from sklearn.metrics import confusion_matrix "
      ],
      "execution_count": null,
      "outputs": []
    },
    {
      "cell_type": "code",
      "metadata": {
        "id": "tSFpxuDSaDyI",
        "colab_type": "code",
        "colab": {}
      },
      "source": [
        "cm = confusion_matrix(y_actual,y_pred)"
      ],
      "execution_count": null,
      "outputs": []
    },
    {
      "cell_type": "code",
      "metadata": {
        "id": "ciaeDsK4aLzn",
        "colab_type": "code",
        "colab": {
          "base_uri": "https://localhost:8080/",
          "height": 72
        },
        "outputId": "91d3ef3a-4172-453e-9248-ba3d708301da"
      },
      "source": [
        "import seaborn"
      ],
      "execution_count": null,
      "outputs": [
        {
          "output_type": "stream",
          "text": [
            "/usr/local/lib/python3.6/dist-packages/statsmodels/tools/_testing.py:19: FutureWarning: pandas.util.testing is deprecated. Use the functions in the public API at pandas.testing instead.\n",
            "  import pandas.util.testing as tm\n"
          ],
          "name": "stderr"
        }
      ]
    },
    {
      "cell_type": "code",
      "metadata": {
        "id": "Mc5PXXnEaNeH",
        "colab_type": "code",
        "colab": {
          "base_uri": "https://localhost:8080/",
          "height": 283
        },
        "outputId": "0e521ca2-98e4-42ba-c59d-bb8867346d3f"
      },
      "source": [
        "seaborn.heatmap(cm,cmap='plasma',annot=True)"
      ],
      "execution_count": null,
      "outputs": [
        {
          "output_type": "execute_result",
          "data": {
            "text/plain": [
              "<matplotlib.axes._subplots.AxesSubplot at 0x7f95d81a09b0>"
            ]
          },
          "metadata": {
            "tags": []
          },
          "execution_count": 50
        },
        {
          "output_type": "display_data",
          "data": {
            "image/png": "[encoded data removed]",
            "text/plain": [
              "<Figure size 432x288 with 2 Axes>"
            ]
          },
          "metadata": {
            "tags": [],
            "needs_background": "light"
          }
        }
      ]
    },
    {
      "cell_type": "code",
      "metadata": {
        "id": "_0DmOgRozwbt",
        "colab_type": "code",
        "colab": {}
      },
      "source": [
        "def grad_cam(img):\n",
        "\n",
        "  # Convert the image to array of type float32\n",
        "  img = np.asarray(img, dtype = np.float32)\n",
        "\n",
        "  # Reshape the image from (256,256,3) to (1,256,256,3)\n",
        "  img = img.reshape(-1, 224, 224, 3)\n",
        "  img_scaled = img / 255\n",
        "\n",
        "  # Name of the average pooling layer and dense final (you can see these names in the model summary)\n",
        "  classification_layers = [\"flatten_2\",\"dense_4\", \"dense_5\"]\n",
        "\n",
        "  # Last convolutional layer in the model\n",
        "  final_conv = model.get_layer(\"conv2d_11\")\n",
        "\n",
        "  # Create a model with original model inputs and the last conv_layer as the output\n",
        "  final_conv_model = keras.Model(model.inputs, final_conv.output)\n",
        "\n",
        "  # Then we create the input for classification layer, which is the output of last conv layer\n",
        "  # In our case, output produced by the conv layer is of the shape (1,3,3,2048) \n",
        "  # Since the classification input needs the features as input, we ignore the batch dimension\n",
        "  new_input = final_conv.output.resize((-1,86528))\n",
        "\n",
        "  classification_input = keras.Input(shape = new_input.shape)\n",
        "\n",
        "  # We iterate through the classification layers, to get the final layer and then append \n",
        "  # the layer as the output layer to the classification model.\n",
        "  temp = classification_input\n",
        "  for layer in classification_layers:\n",
        "      temp = model.get_layer(layer)(temp)\n",
        "  classification_model = keras.Model(classification_input, temp)\n",
        "\n",
        "\n",
        "  # We use gradient tape to monitor the 'final_conv_output' to retrive the gradients\n",
        "  # corresponding to the predicted class\n",
        "  with tf.GradientTape() as tape:\n",
        "      # Pass the image through the base model and get the feature map \n",
        "      final_conv_output = final_conv_model(img_scaled)\n",
        "\n",
        "      # Assign gradient tape to monitor the conv_output\n",
        "      tape.watch(final_conv_output)\n",
        "      \n",
        "      # Pass the feature map through the classification model and use argmax to get the \n",
        "      # index of the predicted class and then use the index to get the value produced by final\n",
        "      # layer for that class\n",
        "      prediction = classification_model(final_conv_output)\n",
        "\n",
        "      predicted_class = tf.argmax(prediction[0][0][0])\n",
        "\n",
        "      predicted_class_value = prediction[:,:,:,predicted_class]\n",
        "  \n",
        "  # Get the gradient corresponding to the predicted class based on feature map.\n",
        "  # which is of shape (1,3,3,2048)\n",
        "  gradient = tape.gradient(predicted_class_value, final_conv_output)\n",
        "\n",
        "  # Since we need the filter values (2048), we reduce the other dimensions, \n",
        "  # which would result in a shape of (2048,)\n",
        "  gradient_channels = tf.reduce_mean(gradient, axis=(0, 1, 2))\n",
        "\n",
        "  # We then convert the feature map produced by last conv layer(1,6,6,1536) to (6,6,1536)\n",
        "  final_conv_output = final_conv_output.numpy()[0]\n",
        "\n",
        "  gradient_channels = gradient_channels.numpy()\n",
        "\n",
        "  # We multiply the filters in the feature map produced by final conv layer by the \n",
        "  # filter values that are used to get the predicted class. By doing this we inrease the\n",
        "  # value of areas that helped in making the prediction and lower the vlaue of areas, that \n",
        "  # did not contribute towards the final prediction\n",
        "  for i in range(gradient_channels.shape[-1]):\n",
        "      final_conv_output[:, :, i] *= gradient_channels[i]\n",
        "\n",
        "  # We take the mean accross the channels to get the feature map\n",
        "  heatmap = np.mean(final_conv_output, axis=-1)\n",
        "\n",
        "  # Normalizing the heat map between 0 and 1, to visualize it\n",
        "  heatmap_normalized = np.maximum(heatmap, 0) / np.max(heatmap)\n",
        "\n",
        "  # Rescaling and converting the type to int\n",
        "  heatmap = np.uint8(255 * heatmap_normalized )\n",
        "\n",
        "  # Create the colormap\n",
        "  color_map = plt.cm.get_cmap('jet')\n",
        "\n",
        "  # get only the rb features from the heatmap\n",
        "  color_map = color_map(np.arange(256))[:, :3]\n",
        "  heatmap = color_map[heatmap]\n",
        "\n",
        "  # convert the array to image, resize the image and then convert to array\n",
        "  heatmap = keras.preprocessing.image.array_to_img(heatmap)\n",
        "  heatmap = heatmap.resize((256, 256))\n",
        "  heatmap = np.asarray(heatmap, dtype = np.float32)\n",
        "\n",
        "  # Add the heatmap on top of the original image\n",
        "  final_img = heatmap * 0.4 + img[0]\n",
        "  final_img = keras.preprocessing.image.array_to_img(final_img)\n",
        "\n",
        "  return final_img, heatmap_normalized"
      ],
      "execution_count": null,
      "outputs": []
    },
    {
      "cell_type": "code",
      "metadata": {
        "id": "FOugH6ShjyT_",
        "colab_type": "code",
        "colab": {}
      },
      "source": [
        ""
      ],
      "execution_count": null,
      "outputs": []
    },
    {
      "cell_type": "code",
      "metadata": {
        "id": "jjQQazrHm6rs",
        "colab_type": "code",
        "colab": {}
      },
      "source": [
        ""
      ],
      "execution_count": null,
      "outputs": []
    }
  ]
}